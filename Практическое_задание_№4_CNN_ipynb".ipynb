{
  "nbformat": 4,
  "nbformat_minor": 0,
  "metadata": {
    "colab": {
      "provenance": [],
      "authorship_tag": "ABX9TyMrjj7zP/a3109Xjvcw7dxF",
      "include_colab_link": true
    },
    "kernelspec": {
      "name": "python3",
      "display_name": "Python 3"
    },
    "language_info": {
      "name": "python"
    }
  },
  "cells": [
    {
      "cell_type": "markdown",
      "metadata": {
        "id": "view-in-github",
        "colab_type": "text"
      },
      "source": [
        "<a href=\"https://colab.research.google.com/github/NatashaYuzhakova/Practical-task-1/blob/main/%D0%9F%D1%80%D0%B0%D0%BA%D1%82%D0%B8%D1%87%D0%B5%D1%81%D0%BA%D0%BE%D0%B5_%D0%B7%D0%B0%D0%B4%D0%B0%D0%BD%D0%B8%D0%B5_%E2%84%964_CNN_ipynb%22.ipynb\" target=\"_parent\"><img src=\"https://colab.research.google.com/assets/colab-badge.svg\" alt=\"Open In Colab\"/></a>"
      ]
    },
    {
      "cell_type": "markdown",
      "source": [
        "# Шаг 1. Загрузка данных\n",
        "\n",
        "## 1.1. Используйте набор данных для задачи классификации изображений (например, набор данных CIFAR-10).\n",
        "\n",
        "## 1.2. Загрузите данные и разделите их на тренировочный и тестовый наборы."
      ],
      "metadata": {
        "id": "-26gXMiELYzp"
      }
    },
    {
      "cell_type": "code",
      "source": [
        "import tensorflow as tf # Импортируем библиотеки\n",
        "from tensorflow import keras\n",
        "from keras import layers\n",
        "\n",
        "import numpy as np\n",
        "import matplotlib.pyplot as plt\n",
        "\n",
        "import warnings\n",
        "warnings.filterwarnings('ignore')"
      ],
      "metadata": {
        "id": "JzySVr3RLy9q"
      },
      "execution_count": 1,
      "outputs": []
    },
    {
      "cell_type": "code",
      "source": [
        "cifar100 = tf.keras.datasets.cifar100 # Загружаем наш набор данных cifar100\n",
        "(x_train, y_train), (x_val, y_val) = cifar100.load_data()\n",
        "print(x_train.shape, y_train.shape, x_val.shape, y_val.shape) # Узнаем и выводим на экран количество элементов"
      ],
      "metadata": {
        "colab": {
          "base_uri": "https://localhost:8080/"
        },
        "id": "KmELwyPMelVp",
        "outputId": "893cc7e3-b350-41da-bd5f-b3d52da78a6b"
      },
      "execution_count": 2,
      "outputs": [
        {
          "output_type": "stream",
          "name": "stdout",
          "text": [
            "Downloading data from https://www.cs.toronto.edu/~kriz/cifar-100-python.tar.gz\n",
            "169001437/169001437 [==============================] - 3s 0us/step\n",
            "(50000, 32, 32, 3) (50000, 1) (10000, 32, 32, 3) (10000, 1)\n"
          ]
        }
      ]
    },
    {
      "cell_type": "code",
      "source": [
        "print(x_train.shape, y_train.shape, x_val.shape, y_val.dtype) #???????"
      ],
      "metadata": {
        "colab": {
          "base_uri": "https://localhost:8080/"
        },
        "id": "BQ6Zug3CrZm5",
        "outputId": "b8596aed-8be6-4f56-e62d-4348e5f099fa"
      },
      "execution_count": 3,
      "outputs": [
        {
          "output_type": "stream",
          "name": "stdout",
          "text": [
            "(50000, 32, 32, 3) (50000, 1) (10000, 32, 32, 3) int64\n"
          ]
        }
      ]
    },
    {
      "cell_type": "code",
      "source": [
        "print(x_train[10]) # Выведем на экран десятое изображение в виде массива"
      ],
      "metadata": {
        "colab": {
          "base_uri": "https://localhost:8080/"
        },
        "id": "3p5bOmYDNITs",
        "outputId": "0c4088f3-b3b2-47be-dc74-635dd61a54ba"
      },
      "execution_count": 4,
      "outputs": [
        {
          "output_type": "stream",
          "name": "stdout",
          "text": [
            "[[[ 83 132 178]\n",
            "  [ 67 114 160]\n",
            "  [ 61 108 154]\n",
            "  ...\n",
            "  [  9  26  57]\n",
            "  [ 16  34  66]\n",
            "  [ 35  59  94]]\n",
            "\n",
            " [[ 75 124 173]\n",
            "  [ 71 119 167]\n",
            "  [ 55 103 152]\n",
            "  ...\n",
            "  [ 39  67 107]\n",
            "  [  9  28  65]\n",
            "  [ 12  31  66]]\n",
            "\n",
            " [[ 73 121 173]\n",
            "  [ 68 115 166]\n",
            "  [ 74 122 172]\n",
            "  ...\n",
            "  [ 91 132 178]\n",
            "  [ 53  83 125]\n",
            "  [ 14  34  70]]\n",
            "\n",
            " ...\n",
            "\n",
            " [[159 187 223]\n",
            "  [150 146 159]\n",
            "  [191 154 143]\n",
            "  ...\n",
            "  [152 131 136]\n",
            "  [173 143 158]\n",
            "  [122 123 150]]\n",
            "\n",
            " [[157 171 202]\n",
            "  [155 133 132]\n",
            "  [183 152 141]\n",
            "  ...\n",
            "  [213 168 159]\n",
            "  [196 146 153]\n",
            "  [169 157 180]]\n",
            "\n",
            " [[150 160 186]\n",
            "  [155 127 122]\n",
            "  [179 149 139]\n",
            "  ...\n",
            "  [212 159 148]\n",
            "  [187 136 135]\n",
            "  [148 135 154]]]\n"
          ]
        }
      ]
    },
    {
      "cell_type": "code",
      "source": [
        "import matplotlib.pyplot as plt # импорт библиотек для визуализации данных\n",
        "%matplotlib inline"
      ],
      "metadata": {
        "id": "Fmc7hKwDRTnn"
      },
      "execution_count": 5,
      "outputs": []
    },
    {
      "cell_type": "code",
      "source": [
        "plt.imshow(x_train[0], cmap='binary') # Выведем на экран хранящееся в X_train[0] изображение\n",
        "plt.axis('off')"
      ],
      "metadata": {
        "colab": {
          "base_uri": "https://localhost:8080/",
          "height": 423
        },
        "id": "zCbjv16QRUlI",
        "outputId": "4a378790-7218-4d84-9c72-641e901f5f4f"
      },
      "execution_count": 6,
      "outputs": [
        {
          "output_type": "execute_result",
          "data": {
            "text/plain": [
              "(-0.5, 31.5, 31.5, -0.5)"
            ]
          },
          "metadata": {},
          "execution_count": 6
        },
        {
          "output_type": "display_data",
          "data": {
            "text/plain": [
              "<Figure size 640x480 with 1 Axes>"
            ],
            "image/png": "[encoded data removed]"
          },
          "metadata": {}
        }
      ]
    },
    {
      "cell_type": "code",
      "source": [
        "print(cifar100.load_data())"
      ],
      "metadata": {
        "colab": {
          "base_uri": "https://localhost:8080/"
        },
        "id": "F7AyAldfen4v",
        "outputId": "9b9bd1d5-d740-4879-f4eb-9814fc63c165"
      },
      "execution_count": 7,
      "outputs": [
        {
          "output_type": "stream",
          "name": "stdout",
          "text": [
            "((array([[[[255, 255, 255],\n",
            "         [255, 255, 255],\n",
            "         [255, 255, 255],\n",
            "         ...,\n",
            "         [195, 205, 193],\n",
            "         [212, 224, 204],\n",
            "         [182, 194, 167]],\n",
            "\n",
            "        [[255, 255, 255],\n",
            "         [254, 254, 254],\n",
            "         [254, 254, 254],\n",
            "         ...,\n",
            "         [170, 176, 150],\n",
            "         [161, 168, 130],\n",
            "         [146, 154, 113]],\n",
            "\n",
            "        [[255, 255, 255],\n",
            "         [254, 254, 254],\n",
            "         [255, 255, 255],\n",
            "         ...,\n",
            "         [189, 199, 169],\n",
            "         [166, 178, 130],\n",
            "         [121, 133,  87]],\n",
            "\n",
            "        ...,\n",
            "\n",
            "        [[148, 185,  79],\n",
            "         [142, 182,  57],\n",
            "         [140, 179,  60],\n",
            "         ...,\n",
            "         [ 30,  17,   1],\n",
            "         [ 65,  62,  15],\n",
            "         [ 76,  77,  20]],\n",
            "\n",
            "        [[122, 157,  66],\n",
            "         [120, 155,  58],\n",
            "         [126, 160,  71],\n",
            "         ...,\n",
            "         [ 22,  16,   3],\n",
            "         [ 97, 112,  56],\n",
            "         [141, 161,  87]],\n",
            "\n",
            "        [[ 87, 122,  41],\n",
            "         [ 88, 122,  39],\n",
            "         [101, 134,  56],\n",
            "         ...,\n",
            "         [ 34,  36,  10],\n",
            "         [105, 133,  59],\n",
            "         [138, 173,  79]]],\n",
            "\n",
            "\n",
            "       [[[255, 255, 255],\n",
            "         [253, 253, 253],\n",
            "         [253, 253, 253],\n",
            "         ...,\n",
            "         [253, 253, 253],\n",
            "         [253, 253, 253],\n",
            "         [255, 255, 255]],\n",
            "\n",
            "        [[255, 255, 255],\n",
            "         [255, 255, 255],\n",
            "         [255, 255, 255],\n",
            "         ...,\n",
            "         [255, 255, 255],\n",
            "         [255, 255, 255],\n",
            "         [255, 255, 255]],\n",
            "\n",
            "        [[255, 255, 255],\n",
            "         [255, 255, 255],\n",
            "         [255, 255, 255],\n",
            "         ...,\n",
            "         [255, 255, 255],\n",
            "         [255, 255, 255],\n",
            "         [255, 255, 255]],\n",
            "\n",
            "        ...,\n",
            "\n",
            "        [[255, 255, 255],\n",
            "         [255, 255, 255],\n",
            "         [255, 255, 255],\n",
            "         ...,\n",
            "         [255, 255, 255],\n",
            "         [255, 255, 255],\n",
            "         [255, 255, 255]],\n",
            "\n",
            "        [[255, 255, 255],\n",
            "         [255, 255, 255],\n",
            "         [255, 255, 255],\n",
            "         ...,\n",
            "         [255, 255, 255],\n",
            "         [255, 255, 255],\n",
            "         [255, 255, 255]],\n",
            "\n",
            "        [[255, 255, 255],\n",
            "         [253, 253, 253],\n",
            "         [253, 253, 253],\n",
            "         ...,\n",
            "         [253, 253, 253],\n",
            "         [253, 253, 253],\n",
            "         [255, 255, 255]]],\n",
            "\n",
            "\n",
            "       [[[250, 250, 248],\n",
            "         [248, 249, 243],\n",
            "         [247, 248, 239],\n",
            "         ...,\n",
            "         [250, 250, 246],\n",
            "         [250, 250, 246],\n",
            "         [249, 250, 246]],\n",
            "\n",
            "        [[250, 251, 245],\n",
            "         [248, 249, 238],\n",
            "         [247, 247, 234],\n",
            "         ...,\n",
            "         [251, 251, 242],\n",
            "         [251, 252, 243],\n",
            "         [250, 251, 243]],\n",
            "\n",
            "        [[251, 251, 244],\n",
            "         [250, 248, 237],\n",
            "         [250, 245, 233],\n",
            "         ...,\n",
            "         [250, 249, 238],\n",
            "         [250, 249, 240],\n",
            "         [250, 249, 242]],\n",
            "\n",
            "        ...,\n",
            "\n",
            "        [[221, 213, 191],\n",
            "         [221, 206, 176],\n",
            "         [225, 207, 181],\n",
            "         ...,\n",
            "         [199, 176, 134],\n",
            "         [207, 193, 165],\n",
            "         [233, 229, 226]],\n",
            "\n",
            "        [[225, 223, 204],\n",
            "         [227, 219, 196],\n",
            "         [229, 216, 200],\n",
            "         ...,\n",
            "         [204, 185, 151],\n",
            "         [212, 201, 180],\n",
            "         [234, 232, 228]],\n",
            "\n",
            "        [[233, 233, 226],\n",
            "         [234, 232, 224],\n",
            "         [235, 230, 225],\n",
            "         ...,\n",
            "         [219, 209, 194],\n",
            "         [223, 216, 207],\n",
            "         [232, 230, 228]]],\n",
            "\n",
            "\n",
            "       ...,\n",
            "\n",
            "\n",
            "       [[[248, 244, 242],\n",
            "         [240, 232, 223],\n",
            "         [236, 232, 223],\n",
            "         ...,\n",
            "         [233, 229, 222],\n",
            "         [230, 228, 222],\n",
            "         [238, 237, 233]],\n",
            "\n",
            "        [[225, 213, 204],\n",
            "         [186, 167, 149],\n",
            "         [175, 159, 140],\n",
            "         ...,\n",
            "         [163, 148, 134],\n",
            "         [156, 144, 133],\n",
            "         [192, 184, 176]],\n",
            "\n",
            "        [[209, 194, 179],\n",
            "         [144, 120,  95],\n",
            "         [139, 115,  87],\n",
            "         ...,\n",
            "         [109,  86,  67],\n",
            "         [109,  90,  76],\n",
            "         [157, 145, 135]],\n",
            "\n",
            "        ...,\n",
            "\n",
            "        [[161, 159, 153],\n",
            "         [ 39,  34,  28],\n",
            "         [ 28,  20,  14],\n",
            "         ...,\n",
            "         [ 93,  72,  53],\n",
            "         [ 85,  67,  50],\n",
            "         [136, 126, 115]],\n",
            "\n",
            "        [[181, 179, 172],\n",
            "         [ 86,  83,  77],\n",
            "         [ 71,  68,  62],\n",
            "         ...,\n",
            "         [122, 103,  89],\n",
            "         [105,  92,  82],\n",
            "         [151, 145, 141]],\n",
            "\n",
            "        [[224, 223, 218],\n",
            "         [180, 180, 175],\n",
            "         [173, 172, 167],\n",
            "         ...,\n",
            "         [196, 187, 180],\n",
            "         [183, 178, 174],\n",
            "         [204, 205, 205]]],\n",
            "\n",
            "\n",
            "       [[[156, 154, 137],\n",
            "         [151, 146, 123],\n",
            "         [151, 144, 125],\n",
            "         ...,\n",
            "         [155, 150, 129],\n",
            "         [152, 148, 125],\n",
            "         [186, 184, 163]],\n",
            "\n",
            "        [[110, 106,  77],\n",
            "         [116, 108,  62],\n",
            "         [114, 101,  57],\n",
            "         ...,\n",
            "         [116, 106,  61],\n",
            "         [111, 103,  56],\n",
            "         [134, 129,  92]],\n",
            "\n",
            "        [[116, 112,  82],\n",
            "         [124, 118,  66],\n",
            "         [128, 118,  67],\n",
            "         ...,\n",
            "         [ 99,  84,  43],\n",
            "         [101,  87,  43],\n",
            "         [129, 118,  86]],\n",
            "\n",
            "        ...,\n",
            "\n",
            "        [[109, 101,  74],\n",
            "         [112, 100,  54],\n",
            "         [118, 105,  62],\n",
            "         ...,\n",
            "         [126, 113,  65],\n",
            "         [126, 111,  61],\n",
            "         [138, 124,  89]],\n",
            "\n",
            "        [[ 98,  92,  63],\n",
            "         [ 93,  82,  35],\n",
            "         [ 96,  83,  38],\n",
            "         ...,\n",
            "         [112,  96,  47],\n",
            "         [109,  92,  45],\n",
            "         [127, 113,  80]],\n",
            "\n",
            "        [[170, 167, 145],\n",
            "         [160, 153, 118],\n",
            "         [163, 152, 119],\n",
            "         ...,\n",
            "         [161, 151, 114],\n",
            "         [156, 144, 107],\n",
            "         [163, 154, 126]]],\n",
            "\n",
            "\n",
            "       [[[ 31,  67, 122],\n",
            "         [ 30,  68, 124],\n",
            "         [ 31,  69, 126],\n",
            "         ...,\n",
            "         [ 32,  70, 129],\n",
            "         [ 32,  70, 125],\n",
            "         [ 32,  69, 122]],\n",
            "\n",
            "        [[ 29,  68, 126],\n",
            "         [ 28,  69, 128],\n",
            "         [ 30,  69, 130],\n",
            "         ...,\n",
            "         [ 32,  70, 131],\n",
            "         [ 32,  69, 127],\n",
            "         [ 31,  69, 124]],\n",
            "\n",
            "        [[ 30,  67, 126],\n",
            "         [ 29,  68, 128],\n",
            "         [ 30,  69, 130],\n",
            "         ...,\n",
            "         [ 32,  72, 132],\n",
            "         [ 31,  70, 130],\n",
            "         [ 30,  69, 127]],\n",
            "\n",
            "        ...,\n",
            "\n",
            "        [[ 39,  41,  76],\n",
            "         [ 38,  42,  76],\n",
            "         [ 38,  44,  78],\n",
            "         ...,\n",
            "         [ 39,  44,  79],\n",
            "         [ 38,  42,  77],\n",
            "         [ 39,  41,  76]],\n",
            "\n",
            "        [[ 40,  39,  73],\n",
            "         [ 39,  40,  74],\n",
            "         [ 39,  41,  76],\n",
            "         ...,\n",
            "         [ 39,  41,  76],\n",
            "         [ 40,  41,  74],\n",
            "         [ 40,  39,  73]],\n",
            "\n",
            "        [[ 40,  39,  70],\n",
            "         [ 40,  39,  71],\n",
            "         [ 40,  39,  72],\n",
            "         ...,\n",
            "         [ 41,  38,  72],\n",
            "         [ 39,  38,  69],\n",
            "         [ 40,  37,  67]]]], dtype=uint8), array([[19],\n",
            "       [29],\n",
            "       [ 0],\n",
            "       ...,\n",
            "       [ 3],\n",
            "       [ 7],\n",
            "       [73]])), (array([[[[199, 215, 249],\n",
            "         [196, 211, 244],\n",
            "         [195, 210, 243],\n",
            "         ...,\n",
            "         [216, 231, 250],\n",
            "         [217, 231, 250],\n",
            "         [224, 234, 252]],\n",
            "\n",
            "        [[197, 210, 239],\n",
            "         [195, 208, 238],\n",
            "         [195, 210, 240],\n",
            "         ...,\n",
            "         [231, 243, 250],\n",
            "         [233, 243, 250],\n",
            "         [241, 245, 253]],\n",
            "\n",
            "        [[222, 226, 246],\n",
            "         [213, 220, 242],\n",
            "         [209, 219, 243],\n",
            "         ...,\n",
            "         [243, 250, 251],\n",
            "         [244, 249, 251],\n",
            "         [250, 250, 253]],\n",
            "\n",
            "        ...,\n",
            "\n",
            "        [[ 72,  73,  99],\n",
            "         [ 71,  74, 102],\n",
            "         [ 74,  78, 108],\n",
            "         ...,\n",
            "         [220, 208, 217],\n",
            "         [183, 168, 181],\n",
            "         [155, 141, 150]],\n",
            "\n",
            "        [[ 72,  75, 104],\n",
            "         [ 76,  81, 111],\n",
            "         [ 84,  89, 122],\n",
            "         ...,\n",
            "         [222, 212, 220],\n",
            "         [187, 174, 192],\n",
            "         [145, 132, 149]],\n",
            "\n",
            "        [[ 80,  85, 118],\n",
            "         [ 84,  90, 123],\n",
            "         [ 85,  92, 127],\n",
            "         ...,\n",
            "         [217, 207, 215],\n",
            "         [207, 194, 211],\n",
            "         [176, 164, 183]]],\n",
            "\n",
            "\n",
            "       [[[113, 130,  98],\n",
            "         [ 88, 105,  73],\n",
            "         [ 72,  89,  58],\n",
            "         ...,\n",
            "         [105, 124,  93],\n",
            "         [ 86, 106,  74],\n",
            "         [ 63,  82,  55]],\n",
            "\n",
            "        [[ 95, 113,  80],\n",
            "         [ 78,  97,  64],\n",
            "         [ 62,  80,  49],\n",
            "         ...,\n",
            "         [103, 122,  84],\n",
            "         [ 89, 109,  70],\n",
            "         [ 65,  83,  49]],\n",
            "\n",
            "        [[ 79,  97,  62],\n",
            "         [ 65,  82,  49],\n",
            "         [ 52,  67,  37],\n",
            "         ...,\n",
            "         [ 65,  79,  52],\n",
            "         [ 62,  79,  51],\n",
            "         [ 49,  64,  38]],\n",
            "\n",
            "        ...,\n",
            "\n",
            "        [[121, 102,  86],\n",
            "         [127, 108,  96],\n",
            "         [139, 121, 111],\n",
            "         ...,\n",
            "         [ 80, 100,  71],\n",
            "         [ 75,  95,  68],\n",
            "         [ 66,  85,  62]],\n",
            "\n",
            "        [[170, 145, 131],\n",
            "         [167, 145, 132],\n",
            "         [159, 140, 128],\n",
            "         ...,\n",
            "         [100, 113,  84],\n",
            "         [ 89, 103,  77],\n",
            "         [ 73,  87,  64]],\n",
            "\n",
            "        [[168, 150, 135],\n",
            "         [170, 152, 137],\n",
            "         [173, 156, 141],\n",
            "         ...,\n",
            "         [118, 123,  96],\n",
            "         [ 99, 106,  80],\n",
            "         [ 84,  92,  67]]],\n",
            "\n",
            "\n",
            "       [[[ 61,  90, 120],\n",
            "         [ 61,  89, 119],\n",
            "         [ 67,  96, 125],\n",
            "         ...,\n",
            "         [ 70,  93, 124],\n",
            "         [ 64,  87, 118],\n",
            "         [ 64,  88, 119]],\n",
            "\n",
            "        [[ 67,  97, 127],\n",
            "         [ 78, 108, 138],\n",
            "         [ 80, 109, 139],\n",
            "         ...,\n",
            "         [ 95, 113, 142],\n",
            "         [ 83, 101, 129],\n",
            "         [ 83, 102, 130]],\n",
            "\n",
            "        [[ 64,  93, 123],\n",
            "         [ 66,  95, 125],\n",
            "         [ 61,  90, 120],\n",
            "         ...,\n",
            "         [120, 134, 160],\n",
            "         [109, 123, 150],\n",
            "         [112, 126, 152]],\n",
            "\n",
            "        ...,\n",
            "\n",
            "        [[ 84,  87,  87],\n",
            "         [ 67,  59,  38],\n",
            "         [ 84,  78,  33],\n",
            "         ...,\n",
            "         [204, 167, 160],\n",
            "         [235, 202, 192],\n",
            "         [236, 206, 193]],\n",
            "\n",
            "        [[ 72,  64,  54],\n",
            "         [ 70,  54,  30],\n",
            "         [ 84,  79,  40],\n",
            "         ...,\n",
            "         [199, 157, 152],\n",
            "         [190, 150, 142],\n",
            "         [196, 161, 149]],\n",
            "\n",
            "        [[ 72,  61,  47],\n",
            "         [ 76,  64,  35],\n",
            "         [ 77,  74,  37],\n",
            "         ...,\n",
            "         [227, 191, 189],\n",
            "         [155, 119, 115],\n",
            "         [134,  98,  89]]],\n",
            "\n",
            "\n",
            "       ...,\n",
            "\n",
            "\n",
            "       [[[ 24,  38,  31],\n",
            "         [ 24,  40,  31],\n",
            "         [ 22,  34,  28],\n",
            "         ...,\n",
            "         [ 56,  59,  55],\n",
            "         [ 35,  40,  37],\n",
            "         [ 25,  35,  32]],\n",
            "\n",
            "        [[ 19,  29,  26],\n",
            "         [ 28,  45,  35],\n",
            "         [ 25,  40,  29],\n",
            "         ...,\n",
            "         [ 55,  57,  58],\n",
            "         [ 38,  42,  44],\n",
            "         [ 36,  44,  39]],\n",
            "\n",
            "        [[ 23,  38,  28],\n",
            "         [ 31,  51,  35],\n",
            "         [ 29,  50,  32],\n",
            "         ...,\n",
            "         [ 33,  41,  36],\n",
            "         [ 33,  37,  41],\n",
            "         [ 42,  49,  44]],\n",
            "\n",
            "        ...,\n",
            "\n",
            "        [[ 39,  73,  29],\n",
            "         [ 47,  95,  25],\n",
            "         [ 61, 104,  44],\n",
            "         ...,\n",
            "         [ 41,  79,  35],\n",
            "         [ 71, 103,  72],\n",
            "         [ 54,  93,  53]],\n",
            "\n",
            "        [[ 39,  72,  34],\n",
            "         [ 40,  91,  18],\n",
            "         [ 51,  96,  33],\n",
            "         ...,\n",
            "         [ 33,  70,  24],\n",
            "         [ 67, 100,  62],\n",
            "         [ 61, 101,  55]],\n",
            "\n",
            "        [[ 48,  89,  33],\n",
            "         [ 37,  83,  17],\n",
            "         [ 46,  91,  24],\n",
            "         ...,\n",
            "         [ 33,  66,  20],\n",
            "         [ 65,  95,  54],\n",
            "         [ 60,  94,  54]]],\n",
            "\n",
            "\n",
            "       [[[ 86,  90,  80],\n",
            "         [ 93,  90,  75],\n",
            "         [ 28,  25,  21],\n",
            "         ...,\n",
            "         [ 73,  52,  36],\n",
            "         [ 67,  49,  39],\n",
            "         [ 92,  71,  61]],\n",
            "\n",
            "        [[ 82,  86,  80],\n",
            "         [ 43,  44,  41],\n",
            "         [ 17,  17,  18],\n",
            "         ...,\n",
            "         [ 65,  42,  28],\n",
            "         [ 34,  23,  16],\n",
            "         [ 56,  41,  33]],\n",
            "\n",
            "        [[ 64,  66,  60],\n",
            "         [ 25,  27,  26],\n",
            "         [ 39,  39,  39],\n",
            "         ...,\n",
            "         [ 54,  37,  24],\n",
            "         [ 34,  25,  19],\n",
            "         [ 40,  31,  22]],\n",
            "\n",
            "        ...,\n",
            "\n",
            "        [[ 43,  43,  39],\n",
            "         [ 87,  82,  70],\n",
            "         [112, 105,  91],\n",
            "         ...,\n",
            "         [130, 130, 123],\n",
            "         [128, 126, 121],\n",
            "         [119, 121, 119]],\n",
            "\n",
            "        [[ 44,  42,  35],\n",
            "         [ 79,  74,  62],\n",
            "         [ 99,  95,  82],\n",
            "         ...,\n",
            "         [135, 133, 123],\n",
            "         [130, 127, 119],\n",
            "         [121, 120, 114]],\n",
            "\n",
            "        [[ 85,  82,  70],\n",
            "         [ 97,  91,  77],\n",
            "         [ 90,  88,  76],\n",
            "         ...,\n",
            "         [132, 128, 119],\n",
            "         [129, 124, 115],\n",
            "         [120, 117, 109]]],\n",
            "\n",
            "\n",
            "       [[[246, 246, 242],\n",
            "         [240, 238, 232],\n",
            "         [214, 212, 199],\n",
            "         ...,\n",
            "         [ 74,  32,  35],\n",
            "         [ 77,  34,  37],\n",
            "         [ 81,  34,  35]],\n",
            "\n",
            "        [[210, 205, 196],\n",
            "         [243, 240, 230],\n",
            "         [229, 225, 214],\n",
            "         ...,\n",
            "         [ 75,  33,  35],\n",
            "         [ 79,  35,  38],\n",
            "         [ 83,  34,  36]],\n",
            "\n",
            "        [[144, 134, 112],\n",
            "         [175, 163, 144],\n",
            "         [158, 144, 130],\n",
            "         ...,\n",
            "         [ 74,  33,  35],\n",
            "         [ 79,  35,  38],\n",
            "         [ 82,  33,  36]],\n",
            "\n",
            "        ...,\n",
            "\n",
            "        [[198, 190, 176],\n",
            "         [111, 111,  66],\n",
            "         [ 58,  55,  27],\n",
            "         ...,\n",
            "         [ 62,  81,  41],\n",
            "         [ 72, 100,  41],\n",
            "         [ 80, 107,  49]],\n",
            "\n",
            "        [[167, 160, 144],\n",
            "         [ 62,  64,  27],\n",
            "         [ 85,  85,  68],\n",
            "         ...,\n",
            "         [ 92, 126,  58],\n",
            "         [143, 183, 104],\n",
            "         [160, 199, 118]],\n",
            "\n",
            "        [[115, 108,  94],\n",
            "         [ 42,  37,  21],\n",
            "         [139, 136, 127],\n",
            "         ...,\n",
            "         [139, 172, 114],\n",
            "         [167, 204, 141],\n",
            "         [146, 182, 118]]]], dtype=uint8), array([[49],\n",
            "       [33],\n",
            "       [72],\n",
            "       ...,\n",
            "       [51],\n",
            "       [42],\n",
            "       [70]])))\n"
          ]
        }
      ]
    },
    {
      "cell_type": "markdown",
      "source": [
        "## Шаг 2. Создание сверточной нейронной сети\n",
        "\n",
        "# 2.1. Импортируйте необходимые библиотеки, такие как TensorFlow и Keras.\n",
        "\n",
        "# 2.2. Создайте сверточную нейронную сеть с несколькими сверточными слоями, слоями подвыборки (pooling), плотными слоями и выходным слоем."
      ],
      "metadata": {
        "id": "ijWcwaWuLnDL"
      }
    },
    {
      "cell_type": "code",
      "execution_count": 8,
      "metadata": {
        "id": "8JWVUz7dLLaz",
        "colab": {
          "base_uri": "https://localhost:8080/",
          "height": 934
        },
        "outputId": "aa52de3d-c93b-4fd0-902f-1796de2ca25e"
      },
      "outputs": [
        {
          "output_type": "display_data",
          "data": {
            "text/plain": [
              "<Figure size 1000x1000 with 12 Axes>"
            ],
            "image/png": "[encoded data removed]"
          },
          "metadata": {}
        }
      ],
      "source": [
        "def show_samples(data, labels): # Выводим часть образцов на экран\n",
        "    plt.subplots(figsize=(10, 10))\n",
        "    for i in range(12):\n",
        "        plt.subplot(3, 4, i+1)\n",
        "        k = np.random.randint(0, data.shape[0])\n",
        "        plt.title(labels[k])\n",
        "        plt.imshow(data[k])\n",
        "    plt.tight_layout()\n",
        "    plt.show()\n",
        "\n",
        "\n",
        "show_samples(x_train, y_train)"
      ]
    },
    {
      "cell_type": "code",
      "source": [
        "y_train = tf.one_hot(y_train, # Делим данные на проверку и обучение\n",
        "                     depth=y_train.max() + 1,\n",
        "                     dtype=tf.float64)\n",
        "y_val = tf.one_hot(y_val,\n",
        "                   depth=y_val.max() + 1,\n",
        "                   dtype=tf.float64)\n",
        "\n",
        "y_train = tf.squeeze(y_train)\n",
        "y_val = tf.squeeze(y_val)\n"
      ],
      "metadata": {
        "id": "lca3foephZi5"
      },
      "execution_count": 9,
      "outputs": []
    },
    {
      "cell_type": "markdown",
      "source": [
        "# Шаг 2. Создание сверточной нейронной сети\n",
        "\n",
        "## 2.1. Импортируйте необходимые библиотеки, такие как TensorFlow и Keras.\n",
        "\n",
        "## 2.2. Создайте сверточную нейронную сеть с несколькими сверточными слоями, слоями подвыборки (pooling), плотными слоями и выходным слоем."
      ],
      "metadata": {
        "id": "HxgawoS2ja2r"
      }
    },
    {
      "cell_type": "code",
      "source": [
        "\n",
        "model = tf.keras.models.Sequential([\n",
        "    layers.Conv2D(16, (3, 3), activation='relu',\n",
        "                  input_shape=(32, 32, 3), padding='same'),\n",
        "    layers.Conv2D(32, (3, 3), # Сверточный слой с 32 фильтрами, каждый размером 3x3.Функция активации ReLU\n",
        "                  activation='relu',\n",
        "                  padding='same'),\n",
        "    layers.Conv2D(64, (3, 3), #Сверточный слой с 64 фильтрами, каждый размером 3x3\n",
        "                  activation='relu',\n",
        "                  padding='same'),\n",
        "    layers.MaxPooling2D(2, 2),  #Максимальный слой пула с размером пула 2x2. Функция активации ReLU\n",
        "    layers.Conv2D(128, (3, 3),\n",
        "                  activation='relu',\n",
        "                  padding='same'),\n",
        "\n",
        "\n",
        "    layers.Flatten(), #Сгладить слой\n",
        "    layers.Dense(256, activation='relu'), #Плотный слой с 256 нейронами и функцией активации ReLU\n",
        "    layers.BatchNormalization(),\n",
        "    layers.Dense(256, activation='relu'),\n",
        "    layers.Dropout(0.3),\n",
        "    layers.BatchNormalization(),\n",
        "    layers.Dense(100, activation='softmax') #Плотный слой с 10 нейронами и функцией активации softmax\n",
        "])\n",
        "\n",
        "model.compile(\n",
        "    loss=tf.keras.losses.CategoricalCrossentropy(from_logits=True),\n",
        "    optimizer='adam',\n",
        "    metrics=['AUC', 'accuracy']\n",
        ")\n"
      ],
      "metadata": {
        "id": "Qm3532eFhZyp"
      },
      "execution_count": 10,
      "outputs": []
    },
    {
      "cell_type": "code",
      "source": [
        "model.summary() # Печатаем сводку параметров"
      ],
      "metadata": {
        "colab": {
          "base_uri": "https://localhost:8080/"
        },
        "id": "F4_9XiSIhZ1P",
        "outputId": "175be0da-4a1a-4e44-d6e2-b9888dda04f6"
      },
      "execution_count": 11,
      "outputs": [
        {
          "output_type": "stream",
          "name": "stdout",
          "text": [
            "Model: \"sequential\"\n",
            "_________________________________________________________________\n",
            " Layer (type)                Output Shape              Param #   \n",
            "=================================================================\n",
            " conv2d (Conv2D)             (None, 32, 32, 16)        448       \n",
            "                                                                 \n",
            " conv2d_1 (Conv2D)           (None, 32, 32, 32)        4640      \n",
            "                                                                 \n",
            " conv2d_2 (Conv2D)           (None, 32, 32, 64)        18496     \n",
            "                                                                 \n",
            " max_pooling2d (MaxPooling2  (None, 16, 16, 64)        0         \n",
            " D)                                                              \n",
            "                                                                 \n",
            " conv2d_3 (Conv2D)           (None, 16, 16, 128)       73856     \n",
            "                                                                 \n",
            " flatten (Flatten)           (None, 32768)             0         \n",
            "                                                                 \n",
            " dense (Dense)               (None, 256)               8388864   \n",
            "                                                                 \n",
            " batch_normalization (Batch  (None, 256)               1024      \n",
            " Normalization)                                                  \n",
            "                                                                 \n",
            " dense_1 (Dense)             (None, 256)               65792     \n",
            "                                                                 \n",
            " dropout (Dropout)           (None, 256)               0         \n",
            "                                                                 \n",
            " batch_normalization_1 (Bat  (None, 256)               1024      \n",
            " chNormalization)                                                \n",
            "                                                                 \n",
            " dense_2 (Dense)             (None, 100)               25700     \n",
            "                                                                 \n",
            "=================================================================\n",
            "Total params: 8579844 (32.73 MB)\n",
            "Trainable params: 8578820 (32.73 MB)\n",
            "Non-trainable params: 1024 (4.00 KB)\n",
            "_________________________________________________________________\n"
          ]
        }
      ]
    },
    {
      "cell_type": "markdown",
      "source": [
        "# Шаг 3. Обучение сверточной нейронной сети\n",
        "\n",
        "## 3.1. Настройте параметры обучения, такие как оптимизатор, функция потерь и метрики.\n",
        "\n",
        "## 3.2. Обучите сверточную нейронную сеть на тренировочных данных с использованием метода fit()."
      ],
      "metadata": {
        "id": "H7N9XNUejxLN"
      }
    },
    {
      "cell_type": "code",
      "source": [
        "hist = model.fit(x_train, y_train,\n",
        "                 epochs=5,\n",
        "                 batch_size=64,\n",
        "                 verbose=1,\n",
        "                 validation_data=(x_val, y_val)) # acc – точность классификации на обучающих данных;loss – значение функции потерь на обучающих данных;val_acc – точность классификации на проверочных данных;val_loss – значение функции потерь на проверочных данных."
      ],
      "metadata": {
        "colab": {
          "base_uri": "https://localhost:8080/"
        },
        "id": "26V8U1mqhZ4L",
        "outputId": "c8c80f80-885b-4da9-8873-93efaeb93bd4"
      },
      "execution_count": 12,
      "outputs": [
        {
          "output_type": "stream",
          "name": "stdout",
          "text": [
            "Epoch 1/5\n",
            "782/782 [==============================] - 622s 784ms/step - loss: 3.9389 - auc: 0.7803 - accuracy: 0.1056 - val_loss: 3.3612 - val_auc: 0.8621 - val_accuracy: 0.1969\n",
            "Epoch 2/5\n",
            "782/782 [==============================] - 608s 777ms/step - loss: 3.1832 - auc: 0.8782 - accuracy: 0.2225 - val_loss: 3.7884 - val_auc: 0.8495 - val_accuracy: 0.2082\n",
            "Epoch 3/5\n",
            "782/782 [==============================] - 612s 783ms/step - loss: 2.7271 - auc: 0.9136 - accuracy: 0.3102 - val_loss: 2.6768 - val_auc: 0.9122 - val_accuracy: 0.3362\n",
            "Epoch 4/5\n",
            "782/782 [==============================] - 588s 752ms/step - loss: 2.3390 - auc: 0.9375 - accuracy: 0.3923 - val_loss: 2.3664 - val_auc: 0.9323 - val_accuracy: 0.3971\n",
            "Epoch 5/5\n",
            "782/782 [==============================] - 593s 759ms/step - loss: 1.9883 - auc: 0.9544 - accuracy: 0.4655 - val_loss: 2.3339 - val_auc: 0.9268 - val_accuracy: 0.4084\n"
          ]
        }
      ]
    },
    {
      "cell_type": "code",
      "source": [
        "model.evaluate(x_val, y_val)\n",
        "print()"
      ],
      "metadata": {
        "id": "4qv-AzN4FzEP",
        "colab": {
          "base_uri": "https://localhost:8080/"
        },
        "outputId": "ae6518e8-7ca0-4196-95ef-cc6a7ee42087"
      },
      "execution_count": 13,
      "outputs": [
        {
          "output_type": "stream",
          "name": "stdout",
          "text": [
            "313/313 [==============================] - 29s 94ms/step - loss: 2.3339 - auc: 0.9268 - accuracy: 0.4084\n",
            "\n"
          ]
        }
      ]
    },
    {
      "cell_type": "code",
      "source": [
        "temp = model.get_layer('conv2d_3')\n",
        "last_output = temp.output\n",
        "last_output.shape"
      ],
      "metadata": {
        "id": "rumguKSZhww9",
        "colab": {
          "base_uri": "https://localhost:8080/"
        },
        "outputId": "51b17dfa-2558-4383-d8d1-4cebf9b4cef5"
      },
      "execution_count": 14,
      "outputs": [
        {
          "output_type": "execute_result",
          "data": {
            "text/plain": [
              "TensorShape([None, 16, 16, 128])"
            ]
          },
          "metadata": {},
          "execution_count": 14
        }
      ]
    },
    {
      "cell_type": "code",
      "source": [
        "x = layers.Flatten()(last_output)\n",
        "\n",
        "x = layers.Dense(256, activation='relu')(x)\n",
        "x = layers.BatchNormalization()(x)\n",
        "\n",
        "x = layers.Dense(256, activation='relu')(x)\n",
        "x = layers.Dropout(0.3)(x)\n",
        "x = layers.BatchNormalization()(x)\n",
        "\n",
        "output = layers.Dense(10, activation='softmax')(x)\n",
        "\n",
        "model_new = keras.Model(model.input, output)"
      ],
      "metadata": {
        "id": "TnoLXf15hw6Z"
      },
      "execution_count": 15,
      "outputs": []
    },
    {
      "cell_type": "code",
      "source": [
        "model_new.summary()"
      ],
      "metadata": {
        "id": "BrD6Rd4Nh5VL",
        "colab": {
          "base_uri": "https://localhost:8080/"
        },
        "outputId": "8904b046-e543-4886-dca5-a1634eaaa4d6"
      },
      "execution_count": 16,
      "outputs": [
        {
          "output_type": "stream",
          "name": "stdout",
          "text": [
            "Model: \"model\"\n",
            "_________________________________________________________________\n",
            " Layer (type)                Output Shape              Param #   \n",
            "=================================================================\n",
            " conv2d_input (InputLayer)   [(None, 32, 32, 3)]       0         \n",
            "                                                                 \n",
            " conv2d (Conv2D)             (None, 32, 32, 16)        448       \n",
            "                                                                 \n",
            " conv2d_1 (Conv2D)           (None, 32, 32, 32)        4640      \n",
            "                                                                 \n",
            " conv2d_2 (Conv2D)           (None, 32, 32, 64)        18496     \n",
            "                                                                 \n",
            " max_pooling2d (MaxPooling2  (None, 16, 16, 64)        0         \n",
            " D)                                                              \n",
            "                                                                 \n",
            " conv2d_3 (Conv2D)           (None, 16, 16, 128)       73856     \n",
            "                                                                 \n",
            " flatten_1 (Flatten)         (None, 32768)             0         \n",
            "                                                                 \n",
            " dense_3 (Dense)             (None, 256)               8388864   \n",
            "                                                                 \n",
            " batch_normalization_2 (Bat  (None, 256)               1024      \n",
            " chNormalization)                                                \n",
            "                                                                 \n",
            " dense_4 (Dense)             (None, 256)               65792     \n",
            "                                                                 \n",
            " dropout_1 (Dropout)         (None, 256)               0         \n",
            "                                                                 \n",
            " batch_normalization_3 (Bat  (None, 256)               1024      \n",
            " chNormalization)                                                \n",
            "                                                                 \n",
            " dense_5 (Dense)             (None, 10)                2570      \n",
            "                                                                 \n",
            "=================================================================\n",
            "Total params: 8556714 (32.64 MB)\n",
            "Trainable params: 8555690 (32.64 MB)\n",
            "Non-trainable params: 1024 (4.00 KB)\n",
            "_________________________________________________________________\n"
          ]
        }
      ]
    },
    {
      "cell_type": "code",
      "source": [
        "model_new.compile(\n",
        "    loss='categorical_crossentropy',\n",
        "    optimizer='adam',\n",
        "    metrics=['AUC', 'accuracy']\n",
        ")"
      ],
      "metadata": {
        "id": "DafAVMcyh5X2"
      },
      "execution_count": 17,
      "outputs": []
    },
    {
      "cell_type": "code",
      "source": [
        "# Загружаем данные\n",
        "cifar10 = tf.keras.datasets.cifar10\n",
        "\n",
        "# Разделяем на проверку и обучение\n",
        "(x_train, y_train), (x_val, y_val) = cifar10.load_data()\n",
        "print(x_train.shape, y_train.shape, x_val.shape, y_val.shape)"
      ],
      "metadata": {
        "id": "zonma9xQh5aa",
        "colab": {
          "base_uri": "https://localhost:8080/"
        },
        "outputId": "c616c94e-b394-463f-f271-72551b0ea05a"
      },
      "execution_count": 18,
      "outputs": [
        {
          "output_type": "stream",
          "name": "stdout",
          "text": [
            "Downloading data from https://www.cs.toronto.edu/~kriz/cifar-10-python.tar.gz\n",
            "170498071/170498071 [==============================] - 2s 0us/step\n",
            "(50000, 32, 32, 3) (50000, 1) (10000, 32, 32, 3) (10000, 1)\n"
          ]
        }
      ]
    },
    {
      "cell_type": "code",
      "source": [
        "y_train = tf.one_hot(y_train, depth=10,\n",
        "                     dtype=tf.float64)\n",
        "y_val = tf.one_hot(y_val, depth=10,\n",
        "                   dtype=tf.float64)\n",
        "\n",
        "y_train = tf.squeeze(y_train)\n",
        "y_val = tf.squeeze(y_val)"
      ],
      "metadata": {
        "id": "NEzJuoJFh_Ng"
      },
      "execution_count": 19,
      "outputs": []
    },
    {
      "cell_type": "code",
      "source": [
        "history = model_new.fit(x_train, y_train,\n",
        "                        batch_size=64,\n",
        "                        epochs=5,\n",
        "                        verbose=1,\n",
        "                        validation_data=(x_val, y_val)) # acc – точность классификации на обучающих данных;loss – значение функции потерь на обучающих данных;val_acc – точность классификации на проверочных данных;val_loss – значение функции потерь на проверочных данных."
      ],
      "metadata": {
        "id": "4L6Iq8Uzh_P3",
        "colab": {
          "base_uri": "https://localhost:8080/"
        },
        "outputId": "9a422bf5-9e16-4799-fa39-1d2467cba0a6"
      },
      "execution_count": 20,
      "outputs": [
        {
          "output_type": "stream",
          "name": "stdout",
          "text": [
            "Epoch 1/5\n",
            "782/782 [==============================] - 585s 745ms/step - loss: 1.0893 - auc: 0.9325 - accuracy: 0.6232 - val_loss: 0.8825 - val_auc: 0.9550 - val_accuracy: 0.6957\n",
            "Epoch 2/5\n",
            "782/782 [==============================] - 579s 740ms/step - loss: 0.7123 - auc: 0.9702 - accuracy: 0.7503 - val_loss: 0.8436 - val_auc: 0.9586 - val_accuracy: 0.7125\n",
            "Epoch 3/5\n",
            "782/782 [==============================] - 578s 739ms/step - loss: 0.5908 - auc: 0.9789 - accuracy: 0.7930 - val_loss: 0.8711 - val_auc: 0.9573 - val_accuracy: 0.7096\n",
            "Epoch 4/5\n",
            "782/782 [==============================] - 576s 736ms/step - loss: 0.3585 - auc: 0.9916 - accuracy: 0.8749 - val_loss: 0.8876 - val_auc: 0.9568 - val_accuracy: 0.7270\n",
            "Epoch 5/5\n",
            "782/782 [==============================] - 574s 734ms/step - loss: 0.1982 - auc: 0.9970 - accuracy: 0.9319 - val_loss: 1.0258 - val_auc: 0.9471 - val_accuracy: 0.7231\n"
          ]
        }
      ]
    },
    {
      "cell_type": "markdown",
      "source": [
        "# Шаг 4. Оценка производительности модели\n",
        "\n",
        "## 4.1. Оцените производительность обученной модели на тестовых данных, используя метод evaluate().\n",
        "\n",
        "## 4.2. Опубликуйте ссылку на Github в LMS Odin."
      ],
      "metadata": {
        "id": "olLg-cs8ldt3"
      }
    },
    {
      "cell_type": "code",
      "source": [
        "model_new.evaluate(x_val, y_val)\n",
        "print()"
      ],
      "metadata": {
        "id": "Vey0Qm_j-Vk9",
        "colab": {
          "base_uri": "https://localhost:8080/"
        },
        "outputId": "31741149-8e1a-4e67-8e19-96474f903ea2"
      },
      "execution_count": 31,
      "outputs": [
        {
          "output_type": "stream",
          "name": "stdout",
          "text": [
            "313/313 [==============================] - 29s 92ms/step - loss: 1.0258 - auc: 0.9471 - accuracy: 0.7231\n",
            "\n"
          ]
        }
      ]
    }
  ]
}