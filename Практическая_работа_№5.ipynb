{
  "nbformat": 4,
  "nbformat_minor": 0,
  "metadata": {
    "colab": {
      "provenance": [],
      "authorship_tag": "ABX9TyMkxkd9L9lGGIGlf9WtrupL",
      "include_colab_link": true
    },
    "kernelspec": {
      "name": "python3",
      "display_name": "Python 3"
    },
    "language_info": {
      "name": "python"
    }
  },
  "cells": [
    {
      "cell_type": "markdown",
      "metadata": {
        "id": "view-in-github",
        "colab_type": "text"
      },
      "source": [
        "<a href=\"https://colab.research.google.com/github/NatashaYuzhakova/Practical-task-1/blob/main/%D0%9F%D1%80%D0%B0%D0%BA%D1%82%D0%B8%D1%87%D0%B5%D1%81%D0%BA%D0%B0%D1%8F_%D1%80%D0%B0%D0%B1%D0%BE%D1%82%D0%B0_%E2%84%965.ipynb\" target=\"_parent\"><img src=\"https://colab.research.google.com/assets/colab-badge.svg\" alt=\"Open In Colab\"/></a>"
      ]
    },
    {
      "cell_type": "markdown",
      "source": [
        "# Шаг 1. Загрузка данных\n",
        "\n",
        "## 1.1. Используйте набор данных, содержащий последовательные данные (например, временные ряды, текстовые последовательности или любые другие данные, содержащие последовательную структуру).\n",
        "\n",
        "## 1.2. Загрузите данные и подготовьте их для использования в модели RNN."
      ],
      "metadata": {
        "id": "xWt7aTbQAyM2"
      }
    },
    {
      "cell_type": "code",
      "execution_count": 1,
      "metadata": {
        "colab": {
          "base_uri": "https://localhost:8080/"
        },
        "id": "sOQKunHiyBam",
        "outputId": "01dbf343-5519-49c6-9046-b061d6acd47c"
      },
      "outputs": [
        {
          "output_type": "stream",
          "name": "stdout",
          "text": [
            "Epoch 1/50\n",
            "95/95 [==============================] - 3s 8ms/step - loss: 15.4129\n",
            "Epoch 2/50\n",
            "95/95 [==============================] - 1s 5ms/step - loss: 1.1906\n",
            "Epoch 3/50\n",
            "95/95 [==============================] - 1s 7ms/step - loss: 1.1837\n",
            "Epoch 4/50\n",
            "95/95 [==============================] - 1s 7ms/step - loss: 0.9462\n",
            "Epoch 5/50\n",
            "95/95 [==============================] - 1s 6ms/step - loss: 0.8462\n",
            "Epoch 6/50\n",
            "95/95 [==============================] - 1s 5ms/step - loss: 0.8280\n",
            "Epoch 7/50\n",
            "95/95 [==============================] - 1s 8ms/step - loss: 0.6273\n",
            "Epoch 8/50\n",
            "95/95 [==============================] - 1s 6ms/step - loss: 0.4159\n",
            "Epoch 9/50\n",
            "95/95 [==============================] - 1s 7ms/step - loss: 0.9976\n",
            "Epoch 10/50\n",
            "95/95 [==============================] - 1s 5ms/step - loss: 0.4539\n",
            "Epoch 11/50\n",
            "95/95 [==============================] - 0s 5ms/step - loss: 0.1537\n",
            "Epoch 12/50\n",
            "95/95 [==============================] - 0s 5ms/step - loss: 0.1147\n",
            "Epoch 13/50\n",
            "95/95 [==============================] - 1s 6ms/step - loss: 0.0794\n",
            "Epoch 14/50\n",
            "95/95 [==============================] - 0s 3ms/step - loss: 0.1026\n",
            "Epoch 15/50\n",
            "95/95 [==============================] - 0s 2ms/step - loss: 0.0725\n",
            "Epoch 16/50\n",
            "95/95 [==============================] - 0s 2ms/step - loss: 0.0217\n",
            "Epoch 17/50\n",
            "95/95 [==============================] - 0s 2ms/step - loss: 0.0864\n",
            "Epoch 18/50\n",
            "95/95 [==============================] - 0s 2ms/step - loss: 3.8654\n",
            "Epoch 19/50\n",
            "95/95 [==============================] - 0s 2ms/step - loss: 0.1524\n",
            "Epoch 20/50\n",
            "95/95 [==============================] - 0s 2ms/step - loss: 0.0269\n",
            "Epoch 21/50\n",
            "95/95 [==============================] - 0s 2ms/step - loss: 0.0142\n",
            "Epoch 22/50\n",
            "95/95 [==============================] - 0s 2ms/step - loss: 0.0248\n",
            "Epoch 23/50\n",
            "95/95 [==============================] - 0s 2ms/step - loss: 0.0046\n",
            "Epoch 24/50\n",
            "95/95 [==============================] - 0s 2ms/step - loss: 0.0110\n",
            "Epoch 25/50\n",
            "95/95 [==============================] - 0s 2ms/step - loss: 0.0024\n",
            "Epoch 26/50\n",
            "95/95 [==============================] - 0s 2ms/step - loss: 6.3356e-04\n",
            "Epoch 27/50\n",
            "95/95 [==============================] - 0s 2ms/step - loss: 9.4717e-04\n",
            "Epoch 28/50\n",
            "95/95 [==============================] - 0s 2ms/step - loss: 6.8086e-04\n",
            "Epoch 29/50\n",
            "95/95 [==============================] - 0s 2ms/step - loss: 0.0045\n",
            "Epoch 30/50\n",
            "95/95 [==============================] - 0s 2ms/step - loss: 0.0051\n",
            "Epoch 31/50\n",
            "95/95 [==============================] - 0s 2ms/step - loss: 0.3843\n",
            "Epoch 32/50\n",
            "95/95 [==============================] - 0s 3ms/step - loss: 0.1872\n",
            "Epoch 33/50\n",
            "95/95 [==============================] - 0s 2ms/step - loss: 5.0006\n",
            "Epoch 34/50\n",
            "95/95 [==============================] - 0s 2ms/step - loss: 0.2951\n",
            "Epoch 35/50\n",
            "95/95 [==============================] - 0s 2ms/step - loss: 0.0027\n",
            "Epoch 36/50\n",
            "95/95 [==============================] - 0s 2ms/step - loss: 0.0133\n",
            "Epoch 37/50\n",
            "95/95 [==============================] - 0s 2ms/step - loss: 0.0131\n",
            "Epoch 38/50\n",
            "95/95 [==============================] - 0s 2ms/step - loss: 1.2364e-04\n",
            "Epoch 39/50\n",
            "95/95 [==============================] - 0s 2ms/step - loss: 9.3555e-05\n",
            "Epoch 40/50\n",
            "95/95 [==============================] - 0s 2ms/step - loss: 6.8044e-05\n",
            "Epoch 41/50\n",
            "95/95 [==============================] - 0s 3ms/step - loss: 1.4931e-04\n",
            "Epoch 42/50\n",
            "95/95 [==============================] - 0s 2ms/step - loss: 1.0790e-04\n",
            "Epoch 43/50\n",
            "95/95 [==============================] - 0s 2ms/step - loss: 0.0076\n",
            "Epoch 44/50\n",
            "95/95 [==============================] - 0s 2ms/step - loss: 0.0039\n",
            "Epoch 45/50\n",
            "95/95 [==============================] - 0s 3ms/step - loss: 8.2596e-04\n",
            "Epoch 46/50\n",
            "95/95 [==============================] - 0s 2ms/step - loss: 0.1211\n",
            "Epoch 47/50\n",
            "95/95 [==============================] - 0s 2ms/step - loss: 1.3325\n",
            "Epoch 48/50\n",
            "95/95 [==============================] - 0s 2ms/step - loss: 0.1823\n",
            "Epoch 49/50\n",
            "95/95 [==============================] - 0s 3ms/step - loss: 0.1054\n",
            "Epoch 50/50\n",
            "95/95 [==============================] - 0s 4ms/step - loss: 0.0306\n",
            "1/1 [==============================] - 0s 245ms/step\n",
            "Среднеквадратичная ошибка на тестовых данных: 0.013490789127536118\n"
          ]
        }
      ],
      "source": [
        "\n",
        "\n",
        "# Шаг 4: Оценка производительности модели RNN\n",
        "# На практике использовать отдельный тестовый набор данных\n",
        "test_data = np.arange(101, 111, 1)\n",
        "X_test = np.array([test_data[i:i+5] for i in range(len(test_data)-5)])\n",
        "y_test = np.array([test_data[i+5] for i in range(len(test_data)-5)])\n",
        "\n",
        "# Предсказание на тестовых данных\n",
        "predictions = model.predict(X_test.reshape(-1, 5, 1))\n",
        "\n",
        "# Оценка производительности\n",
        "mse = np.mean((predictions.flatten() - y_test) ** 2)\n",
        "print(\"Среднеквадратичная ошибка на тестовых данных:\", mse)"
      ]
    },
    {
      "cell_type": "markdown",
      "source": [],
      "metadata": {
        "id": "waa6S-OtBm0A"
      }
    },
    {
      "cell_type": "code",
      "source": [
        "import tensorflow as tf\n",
        "from tensorflow.keras.models import Sequential\n",
        "from tensorflow.keras.layers import SimpleRNN, Dense\n",
        "from tensorflow.keras.optimizers import Adam\n",
        "import numpy as np"
      ],
      "metadata": {
        "id": "74wdYwjHA86D"
      },
      "execution_count": 2,
      "outputs": []
    },
    {
      "cell_type": "code",
      "source": [
        "data = np.arange(1, 101, 1) #последовательность чисел от 1 до 100"
      ],
      "metadata": {
        "id": "IoIBNa6QA_w6"
      },
      "execution_count": 3,
      "outputs": []
    },
    {
      "cell_type": "code",
      "source": [
        "\n",
        "input_sequence = [data[i:i+5] for i in range(len(data)-5)] # Создаем последовательные наборы данных для ввода и вывода RNN\n",
        "\n",
        "output_sequence = [data[i+5] for i in range(len(data)-5)]"
      ],
      "metadata": {
        "id": "_nkC0qisBFGP"
      },
      "execution_count": 4,
      "outputs": []
    },
    {
      "cell_type": "code",
      "source": [
        "X = np.array(input_sequence).reshape(-1, 5, 1) # Преобразуем данные в массивы NumPy\n",
        "y = np.array(output_sequence)"
      ],
      "metadata": {
        "id": "Kpvv6NZVBPH4"
      },
      "execution_count": 5,
      "outputs": []
    },
    {
      "cell_type": "markdown",
      "source": [
        "# Шаг 2. Создание рекуррентной нейронной сети (RNN)\n",
        "\n",
        "## 2.1. Импортируйте необходимые библиотеки, такие как TensorFlow и Keras.\n",
        "\n",
        "## 2.2. Создайте рекуррентную нейронную сеть (RNN) с использованием слоя RNN, LSTM или GRU, а также плотных слоев и выходного слоя."
      ],
      "metadata": {
        "id": "ykFVTyBBBShL"
      }
    },
    {
      "cell_type": "code",
      "source": [
        "model = Sequential()\n",
        "model.add(SimpleRNN(50, activation='relu', input_shape=(5, 1)))\n",
        "model.add(Dense(1))"
      ],
      "metadata": {
        "id": "bViiEnrEBW_T"
      },
      "execution_count": 6,
      "outputs": []
    },
    {
      "cell_type": "markdown",
      "source": [
        "# Шаг 3. Обучение RNN\n",
        "\n",
        "## 3.1. Настройте параметры обучения, такие как оптимизатор, функция потерь и метрики.\n",
        "\n",
        "## 3.2. Обучите RNN на тренировочных данных с использованием метода fit(). Учтите, что для RNN важно правильно определить длину последовательности."
      ],
      "metadata": {
        "id": "vZHUOSRgBdub"
      }
    },
    {
      "cell_type": "code",
      "source": [
        "model.compile(optimizer=Adam(), loss='mean_squared_error')\n",
        "model.fit(X, y, epochs=50, batch_size=1)"
      ],
      "metadata": {
        "colab": {
          "base_uri": "https://localhost:8080/"
        },
        "id": "CjD21zw-Bga9",
        "outputId": "6542d142-3f08-4ee4-d68b-a2adf8f7b1ea"
      },
      "execution_count": 7,
      "outputs": [
        {
          "output_type": "stream",
          "name": "stdout",
          "text": [
            "Epoch 1/50\n",
            "95/95 [==============================] - 1s 3ms/step - loss: 44.1505\n",
            "Epoch 2/50\n",
            "95/95 [==============================] - 0s 2ms/step - loss: 1.9713\n",
            "Epoch 3/50\n",
            "95/95 [==============================] - 0s 2ms/step - loss: 1.5272\n",
            "Epoch 4/50\n",
            "95/95 [==============================] - 0s 2ms/step - loss: 1.9852\n",
            "Epoch 5/50\n",
            "95/95 [==============================] - 0s 3ms/step - loss: 1.8855\n",
            "Epoch 6/50\n",
            "95/95 [==============================] - 0s 2ms/step - loss: 1.2007\n",
            "Epoch 7/50\n",
            "95/95 [==============================] - 0s 2ms/step - loss: 2.8713\n",
            "Epoch 8/50\n",
            "95/95 [==============================] - 0s 3ms/step - loss: 0.9375\n",
            "Epoch 9/50\n",
            "95/95 [==============================] - 0s 3ms/step - loss: 2.9459\n",
            "Epoch 10/50\n",
            "95/95 [==============================] - 0s 2ms/step - loss: 0.5671\n",
            "Epoch 11/50\n",
            "95/95 [==============================] - 0s 2ms/step - loss: 0.2012\n",
            "Epoch 12/50\n",
            "95/95 [==============================] - 0s 2ms/step - loss: 1.3378\n",
            "Epoch 13/50\n",
            "95/95 [==============================] - 0s 2ms/step - loss: 0.2482\n",
            "Epoch 14/50\n",
            "95/95 [==============================] - 0s 3ms/step - loss: 0.0745\n",
            "Epoch 15/50\n",
            "95/95 [==============================] - 0s 2ms/step - loss: 0.0237\n",
            "Epoch 16/50\n",
            "95/95 [==============================] - 0s 2ms/step - loss: 0.0171\n",
            "Epoch 17/50\n",
            "95/95 [==============================] - 0s 2ms/step - loss: 0.0547\n",
            "Epoch 18/50\n",
            "95/95 [==============================] - 0s 2ms/step - loss: 0.1160\n",
            "Epoch 19/50\n",
            "95/95 [==============================] - 0s 2ms/step - loss: 0.4199\n",
            "Epoch 20/50\n",
            "95/95 [==============================] - 0s 3ms/step - loss: 2.1429\n",
            "Epoch 21/50\n",
            "95/95 [==============================] - 0s 4ms/step - loss: 1.4885\n",
            "Epoch 22/50\n",
            "95/95 [==============================] - 0s 4ms/step - loss: 1.1677\n",
            "Epoch 23/50\n",
            "95/95 [==============================] - 0s 4ms/step - loss: 0.0390\n",
            "Epoch 24/50\n",
            "95/95 [==============================] - 0s 4ms/step - loss: 0.2305\n",
            "Epoch 25/50\n",
            "95/95 [==============================] - 0s 5ms/step - loss: 0.5466\n",
            "Epoch 26/50\n",
            "95/95 [==============================] - 0s 4ms/step - loss: 0.0255\n",
            "Epoch 27/50\n",
            "95/95 [==============================] - 0s 4ms/step - loss: 0.0244\n",
            "Epoch 28/50\n",
            "95/95 [==============================] - 0s 3ms/step - loss: 0.0560\n",
            "Epoch 29/50\n",
            "95/95 [==============================] - 0s 3ms/step - loss: 0.0147\n",
            "Epoch 30/50\n",
            "95/95 [==============================] - 0s 4ms/step - loss: 0.0012\n",
            "Epoch 31/50\n",
            "95/95 [==============================] - 0s 4ms/step - loss: 0.0720\n",
            "Epoch 32/50\n",
            "95/95 [==============================] - 0s 4ms/step - loss: 0.5397\n",
            "Epoch 33/50\n",
            "95/95 [==============================] - 0s 4ms/step - loss: 0.9044\n",
            "Epoch 34/50\n",
            "95/95 [==============================] - 0s 3ms/step - loss: 3.1618\n",
            "Epoch 35/50\n",
            "95/95 [==============================] - 0s 2ms/step - loss: 0.0621\n",
            "Epoch 36/50\n",
            "95/95 [==============================] - 0s 2ms/step - loss: 0.0674\n",
            "Epoch 37/50\n",
            "95/95 [==============================] - 0s 2ms/step - loss: 0.0164\n",
            "Epoch 38/50\n",
            "95/95 [==============================] - 0s 2ms/step - loss: 0.0393\n",
            "Epoch 39/50\n",
            "95/95 [==============================] - 0s 2ms/step - loss: 0.0216\n",
            "Epoch 40/50\n",
            "95/95 [==============================] - 0s 2ms/step - loss: 0.0068\n",
            "Epoch 41/50\n",
            "95/95 [==============================] - 0s 2ms/step - loss: 0.0201\n",
            "Epoch 42/50\n",
            "95/95 [==============================] - 0s 2ms/step - loss: 0.2129\n",
            "Epoch 43/50\n",
            "95/95 [==============================] - 0s 2ms/step - loss: 2.5435\n",
            "Epoch 44/50\n",
            "95/95 [==============================] - 0s 2ms/step - loss: 5.9854\n",
            "Epoch 45/50\n",
            "95/95 [==============================] - 0s 2ms/step - loss: 0.0833\n",
            "Epoch 46/50\n",
            "95/95 [==============================] - 0s 3ms/step - loss: 0.0604\n",
            "Epoch 47/50\n",
            "95/95 [==============================] - 0s 2ms/step - loss: 0.0153\n",
            "Epoch 48/50\n",
            "95/95 [==============================] - 0s 2ms/step - loss: 0.0217\n",
            "Epoch 49/50\n",
            "95/95 [==============================] - 0s 2ms/step - loss: 0.0212\n",
            "Epoch 50/50\n",
            "95/95 [==============================] - 0s 3ms/step - loss: 0.0059\n"
          ]
        },
        {
          "output_type": "execute_result",
          "data": {
            "text/plain": [
              "<keras.src.callbacks.History at 0x7bf8c053bc40>"
            ]
          },
          "metadata": {},
          "execution_count": 7
        }
      ]
    },
    {
      "cell_type": "markdown",
      "source": [
        "# Шаг 4. Оценка производительности модели RNN\n",
        "\n",
        "## 4.1. Оцените производительность обученной модели RNN на тестовых данных, используя метод evaluate()."
      ],
      "metadata": {
        "id": "9m6Xt19WBp0e"
      }
    },
    {
      "cell_type": "code",
      "source": [
        "test_data = np.arange(101, 111, 1)\n",
        "X_test = np.array([test_data[i:i+5] for i in range(len(test_data)-5)])\n",
        "y_test = np.array([test_data[i+5] for i in range(len(test_data)-5)])"
      ],
      "metadata": {
        "id": "bAiotQf6Brvx"
      },
      "execution_count": 8,
      "outputs": []
    },
    {
      "cell_type": "code",
      "source": [
        "predictions = model.predict(X_test.reshape(-1, 5, 1)) # Предсказание на тестовых данных\n",
        "\n",
        "mse = np.mean((predictions.flatten() - y_test) ** 2) # Оценка производительности\n",
        "print(\"Среднеквадратичная ошибка на тестовых данных:\", mse)"
      ],
      "metadata": {
        "colab": {
          "base_uri": "https://localhost:8080/"
        },
        "id": "dFmBo64cB4wK",
        "outputId": "0aedbc24-0047-403b-e7f5-3c603df7579e"
      },
      "execution_count": 9,
      "outputs": [
        {
          "output_type": "stream",
          "name": "stdout",
          "text": [
            "1/1 [==============================] - 0s 140ms/step\n",
            "Среднеквадратичная ошибка на тестовых данных: 0.0041397730587050315\n"
          ]
        }
      ]
    },
    {
      "cell_type": "markdown",
      "source": [
        "## 4.2. Опубликуйте ссылку на Github в LMS Odin."
      ],
      "metadata": {
        "id": "xq7IJ0RvB-rs"
      }
    }
  ]
}